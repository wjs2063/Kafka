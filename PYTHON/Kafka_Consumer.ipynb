{
 "cells": [
  {
   "cell_type": "code",
   "execution_count": 26,
   "id": "268aa280",
   "metadata": {},
   "outputs": [],
   "source": [
    "\n",
    "from kafka import KafkaConsumer\n",
    "from kafka import KafkaClient\n",
    "from kafka import TopicPartition\n",
    "\n",
    "import json\n",
    "import msgpack\n",
    "from json import loads\n",
    "import json\n"
   ]
  },
  {
   "cell_type": "code",
   "execution_count": 27,
   "id": "34eecd25",
   "metadata": {},
   "outputs": [],
   "source": [
    "consumer = KafkaConsumer('jaehyeon',\n",
    "                        bootstrap_servers=['localhost:9092'],\n",
    "                         api_version = (0,10)\n",
    "                        )"
   ]
  },
  {
   "cell_type": "code",
   "execution_count": null,
   "id": "e8736e28",
   "metadata": {},
   "outputs": [
    {
     "name": "stdout",
     "output_type": "stream",
     "text": [
      "\"\\u314e\\u3147\"\n",
      "\"hello\"\n",
      "\"my name is jaehyeon\"\n",
      "\"what is your name\"\n"
     ]
    }
   ],
   "source": [
    "for message in consumer:\n",
    "    print(message.value.decode('utf-8-sig'))"
   ]
  },
  {
   "cell_type": "code",
   "execution_count": null,
   "id": "07191636",
   "metadata": {},
   "outputs": [],
   "source": []
  }
 ],
 "metadata": {
  "kernelspec": {
   "display_name": "Python 3 (ipykernel)",
   "language": "python",
   "name": "python3"
  },
  "language_info": {
   "codemirror_mode": {
    "name": "ipython",
    "version": 3
   },
   "file_extension": ".py",
   "mimetype": "text/x-python",
   "name": "python",
   "nbconvert_exporter": "python",
   "pygments_lexer": "ipython3",
   "version": "3.7.12"
  }
 },
 "nbformat": 4,
 "nbformat_minor": 5
}
