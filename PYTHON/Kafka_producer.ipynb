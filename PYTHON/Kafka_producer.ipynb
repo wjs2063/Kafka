{
 "cells": [
  {
   "cell_type": "code",
   "execution_count": 47,
   "id": "fbf2dd0e",
   "metadata": {},
   "outputs": [],
   "source": [
    "from kafka import KafkaProducer\n",
    "from time import sleep\n",
    "import json\n",
    "from datetime import datetime"
   ]
  },
  {
   "cell_type": "code",
   "execution_count": 48,
   "id": "a7056b56",
   "metadata": {},
   "outputs": [],
   "source": [
    "# 카프카 프로듀서 생성\n",
    "producer = KafkaProducer(bootstrap_servers = ['localhost:9092'],api_version = (0,10,1))"
   ]
  },
  {
   "cell_type": "code",
   "execution_count": 49,
   "id": "4a39187b",
   "metadata": {},
   "outputs": [
    {
     "data": {
      "text/plain": [
       "<kafka.producer.future.FutureRecordMetadata at 0x7f8ca0431750>"
      ]
     },
     "execution_count": 49,
     "metadata": {},
     "output_type": "execute_result"
    }
   ],
   "source": [
    "producer.send('hello',b'jaehyeon,kafka')"
   ]
  },
  {
   "cell_type": "code",
   "execution_count": 50,
   "id": "a42f0033",
   "metadata": {},
   "outputs": [
    {
     "data": {
      "text/plain": [
       "datetime.datetime(2022, 8, 27, 17, 53, 10, 289545)"
      ]
     },
     "execution_count": 50,
     "metadata": {},
     "output_type": "execute_result"
    }
   ],
   "source": [
    "\n",
    "now = datetime.now()\n",
    "now"
   ]
  },
  {
   "cell_type": "code",
   "execution_count": 51,
   "id": "90b73cc7",
   "metadata": {},
   "outputs": [],
   "source": [
    "current_time = now.strftime(\"%d/%m/%Y %H:%M:%S\")\n"
   ]
  },
  {
   "cell_type": "code",
   "execution_count": null,
   "id": "d2b1e312",
   "metadata": {},
   "outputs": [
    {
     "name": "stdout",
     "output_type": "stream",
     "text": [
      "ㅎㅇ\n",
      "ㅎㅇ\n",
      "hello\n",
      "hello\n",
      "my name is jaehyeon\n",
      "my name is jaehyeon\n",
      "what is your name\n",
      "what is your name\n"
     ]
    }
   ],
   "source": [
    "text = \"\"\n",
    "while text !=\"exit\":\n",
    "    text = input()\n",
    "    producer.send('jaehyeon',json.dumps(text).encode('utf-8-sig'))\n",
    "    sleep(1)\n",
    "    print(text)"
   ]
  },
  {
   "cell_type": "code",
   "execution_count": null,
   "id": "81400eda",
   "metadata": {},
   "outputs": [],
   "source": []
  }
 ],
 "metadata": {
  "kernelspec": {
   "display_name": "Python 3 (ipykernel)",
   "language": "python",
   "name": "python3"
  },
  "language_info": {
   "codemirror_mode": {
    "name": "ipython",
    "version": 3
   },
   "file_extension": ".py",
   "mimetype": "text/x-python",
   "name": "python",
   "nbconvert_exporter": "python",
   "pygments_lexer": "ipython3",
   "version": "3.7.12"
  }
 },
 "nbformat": 4,
 "nbformat_minor": 5
}
